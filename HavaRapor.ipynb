{
 "cells": [
  {
   "cell_type": "code",
   "execution_count": null,
   "id": "5469f23f-1462-4cdc-8fdf-3d0b29acf037",
   "metadata": {},
   "outputs": [],
   "source": []
  }
 ],
 "metadata": {
  "kernelspec": {
   "display_name": "",
   "name": ""
  },
  "language_info": {
   "name": ""
  }
 },
 "nbformat": 4,
 "nbformat_minor": 5
}
